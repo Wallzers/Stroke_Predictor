{
  "nbformat": 4,
  "nbformat_minor": 0,
  "metadata": {
    "colab": {
      "name": "Stroke prediction",
      "provenance": [],
      "collapsed_sections": [],
      "mount_file_id": "1oddtCDiwvk2lpWtFBJp8yB1FSuNURnOp",
      "authorship_tag": "ABX9TyNb7nrXPb3EFZ9rUtQPNqLw",
      "include_colab_link": true
    },
    "kernelspec": {
      "name": "python3",
      "display_name": "Python 3"
    },
    "language_info": {
      "name": "python"
    }
  },
  "cells": [
    {
      "cell_type": "markdown",
      "metadata": {
        "id": "view-in-github",
        "colab_type": "text"
      },
      "source": [
        "<a href=\"https://colab.research.google.com/github/Wallzers/Stroke_Predictor/blob/main/Stroke_prediction.ipynb\" target=\"_parent\"><img src=\"https://colab.research.google.com/assets/colab-badge.svg\" alt=\"Open In Colab\"/></a>"
      ]
    },
    {
      "cell_type": "code",
      "metadata": {
        "id": "Kr5o7hAHF2hn"
      },
      "source": [
        "import matplotlib.pyplot as plt\n",
        "import numpy as np\n",
        "import pandas as pd\n",
        "import tensorflow as tf\n",
        "\n",
        "from sklearn.metrics import accuracy_score, precision_score, recall_score\n",
        "from sklearn.model_selection import train_test_split\n",
        "from tensorflow.keras import layers, losses\n",
        "from tensorflow.keras.datasets import fashion_mnist\n",
        "from tensorflow.keras.models import Model"
      ],
      "execution_count": null,
      "outputs": []
    },
    {
      "cell_type": "markdown",
      "source": [
        "df = pd.read_csv(\"/content/drive/MyDrive/stroke.csv\")\n",
        "\n",
        "df.head()\n"
      ],
      "metadata": {
        "id": "TmP-xLx1Xtoh"
      }
    },
    {
      "cell_type": "code",
      "source": [
        "df = pd.read_csv(\"/content/drive/MyDrive/stroke.csv\")\n",
        "\n",
        "df.head()"
      ],
      "metadata": {
        "id": "R8sFgPPKZVlz",
        "colab": {
          "base_uri": "https://localhost:8080/",
          "height": 206
        },
        "outputId": "e7fcb054-d9fe-4958-ede5-d8f713d61991"
      },
      "execution_count": null,
      "outputs": [
        {
          "output_type": "execute_result",
          "data": {
            "text/plain": [
              "      id  gender   age  hypertension  heart_disease ever_married  \\\n",
              "0   9046    Male  67.0             0              1          Yes   \n",
              "1  51676  Female  61.0             0              0          Yes   \n",
              "2  31112    Male  80.0             0              1          Yes   \n",
              "3  60182  Female  49.0             0              0          Yes   \n",
              "4   1665  Female  79.0             1              0          Yes   \n",
              "\n",
              "       work_type Residence_type  avg_glucose_level   bmi   smoking_status  \\\n",
              "0        Private          Urban             228.69  36.6  formerly smoked   \n",
              "1  Self-employed          Rural             202.21   NaN     never smoked   \n",
              "2        Private          Rural             105.92  32.5     never smoked   \n",
              "3        Private          Urban             171.23  34.4           smokes   \n",
              "4  Self-employed          Rural             174.12  24.0     never smoked   \n",
              "\n",
              "   stroke  \n",
              "0       1  \n",
              "1       1  \n",
              "2       1  \n",
              "3       1  \n",
              "4       1  "
            ],
            "text/html": [
              "\n",
              "  <div id=\"df-47a610d0-f7d7-4c32-bf4c-11260344105b\">\n",
              "    <div class=\"colab-df-container\">\n",
              "      <div>\n",
              "<style scoped>\n",
              "    .dataframe tbody tr th:only-of-type {\n",
              "        vertical-align: middle;\n",
              "    }\n",
              "\n",
              "    .dataframe tbody tr th {\n",
              "        vertical-align: top;\n",
              "    }\n",
              "\n",
              "    .dataframe thead th {\n",
              "        text-align: right;\n",
              "    }\n",
              "</style>\n",
              "<table border=\"1\" class=\"dataframe\">\n",
              "  <thead>\n",
              "    <tr style=\"text-align: right;\">\n",
              "      <th></th>\n",
              "      <th>id</th>\n",
              "      <th>gender</th>\n",
              "      <th>age</th>\n",
              "      <th>hypertension</th>\n",
              "      <th>heart_disease</th>\n",
              "      <th>ever_married</th>\n",
              "      <th>work_type</th>\n",
              "      <th>Residence_type</th>\n",
              "      <th>avg_glucose_level</th>\n",
              "      <th>bmi</th>\n",
              "      <th>smoking_status</th>\n",
              "      <th>stroke</th>\n",
              "    </tr>\n",
              "  </thead>\n",
              "  <tbody>\n",
              "    <tr>\n",
              "      <th>0</th>\n",
              "      <td>9046</td>\n",
              "      <td>Male</td>\n",
              "      <td>67.0</td>\n",
              "      <td>0</td>\n",
              "      <td>1</td>\n",
              "      <td>Yes</td>\n",
              "      <td>Private</td>\n",
              "      <td>Urban</td>\n",
              "      <td>228.69</td>\n",
              "      <td>36.6</td>\n",
              "      <td>formerly smoked</td>\n",
              "      <td>1</td>\n",
              "    </tr>\n",
              "    <tr>\n",
              "      <th>1</th>\n",
              "      <td>51676</td>\n",
              "      <td>Female</td>\n",
              "      <td>61.0</td>\n",
              "      <td>0</td>\n",
              "      <td>0</td>\n",
              "      <td>Yes</td>\n",
              "      <td>Self-employed</td>\n",
              "      <td>Rural</td>\n",
              "      <td>202.21</td>\n",
              "      <td>NaN</td>\n",
              "      <td>never smoked</td>\n",
              "      <td>1</td>\n",
              "    </tr>\n",
              "    <tr>\n",
              "      <th>2</th>\n",
              "      <td>31112</td>\n",
              "      <td>Male</td>\n",
              "      <td>80.0</td>\n",
              "      <td>0</td>\n",
              "      <td>1</td>\n",
              "      <td>Yes</td>\n",
              "      <td>Private</td>\n",
              "      <td>Rural</td>\n",
              "      <td>105.92</td>\n",
              "      <td>32.5</td>\n",
              "      <td>never smoked</td>\n",
              "      <td>1</td>\n",
              "    </tr>\n",
              "    <tr>\n",
              "      <th>3</th>\n",
              "      <td>60182</td>\n",
              "      <td>Female</td>\n",
              "      <td>49.0</td>\n",
              "      <td>0</td>\n",
              "      <td>0</td>\n",
              "      <td>Yes</td>\n",
              "      <td>Private</td>\n",
              "      <td>Urban</td>\n",
              "      <td>171.23</td>\n",
              "      <td>34.4</td>\n",
              "      <td>smokes</td>\n",
              "      <td>1</td>\n",
              "    </tr>\n",
              "    <tr>\n",
              "      <th>4</th>\n",
              "      <td>1665</td>\n",
              "      <td>Female</td>\n",
              "      <td>79.0</td>\n",
              "      <td>1</td>\n",
              "      <td>0</td>\n",
              "      <td>Yes</td>\n",
              "      <td>Self-employed</td>\n",
              "      <td>Rural</td>\n",
              "      <td>174.12</td>\n",
              "      <td>24.0</td>\n",
              "      <td>never smoked</td>\n",
              "      <td>1</td>\n",
              "    </tr>\n",
              "  </tbody>\n",
              "</table>\n",
              "</div>\n",
              "      <button class=\"colab-df-convert\" onclick=\"convertToInteractive('df-47a610d0-f7d7-4c32-bf4c-11260344105b')\"\n",
              "              title=\"Convert this dataframe to an interactive table.\"\n",
              "              style=\"display:none;\">\n",
              "        \n",
              "  <svg xmlns=\"http://www.w3.org/2000/svg\" height=\"24px\"viewBox=\"0 0 24 24\"\n",
              "       width=\"24px\">\n",
              "    <path d=\"M0 0h24v24H0V0z\" fill=\"none\"/>\n",
              "    <path d=\"M18.56 5.44l.94 2.06.94-2.06 2.06-.94-2.06-.94-.94-2.06-.94 2.06-2.06.94zm-11 1L8.5 8.5l.94-2.06 2.06-.94-2.06-.94L8.5 2.5l-.94 2.06-2.06.94zm10 10l.94 2.06.94-2.06 2.06-.94-2.06-.94-.94-2.06-.94 2.06-2.06.94z\"/><path d=\"M17.41 7.96l-1.37-1.37c-.4-.4-.92-.59-1.43-.59-.52 0-1.04.2-1.43.59L10.3 9.45l-7.72 7.72c-.78.78-.78 2.05 0 2.83L4 21.41c.39.39.9.59 1.41.59.51 0 1.02-.2 1.41-.59l7.78-7.78 2.81-2.81c.8-.78.8-2.07 0-2.86zM5.41 20L4 18.59l7.72-7.72 1.47 1.35L5.41 20z\"/>\n",
              "  </svg>\n",
              "      </button>\n",
              "      \n",
              "  <style>\n",
              "    .colab-df-container {\n",
              "      display:flex;\n",
              "      flex-wrap:wrap;\n",
              "      gap: 12px;\n",
              "    }\n",
              "\n",
              "    .colab-df-convert {\n",
              "      background-color: #E8F0FE;\n",
              "      border: none;\n",
              "      border-radius: 50%;\n",
              "      cursor: pointer;\n",
              "      display: none;\n",
              "      fill: #1967D2;\n",
              "      height: 32px;\n",
              "      padding: 0 0 0 0;\n",
              "      width: 32px;\n",
              "    }\n",
              "\n",
              "    .colab-df-convert:hover {\n",
              "      background-color: #E2EBFA;\n",
              "      box-shadow: 0px 1px 2px rgba(60, 64, 67, 0.3), 0px 1px 3px 1px rgba(60, 64, 67, 0.15);\n",
              "      fill: #174EA6;\n",
              "    }\n",
              "\n",
              "    [theme=dark] .colab-df-convert {\n",
              "      background-color: #3B4455;\n",
              "      fill: #D2E3FC;\n",
              "    }\n",
              "\n",
              "    [theme=dark] .colab-df-convert:hover {\n",
              "      background-color: #434B5C;\n",
              "      box-shadow: 0px 1px 3px 1px rgba(0, 0, 0, 0.15);\n",
              "      filter: drop-shadow(0px 1px 2px rgba(0, 0, 0, 0.3));\n",
              "      fill: #FFFFFF;\n",
              "    }\n",
              "  </style>\n",
              "\n",
              "      <script>\n",
              "        const buttonEl =\n",
              "          document.querySelector('#df-47a610d0-f7d7-4c32-bf4c-11260344105b button.colab-df-convert');\n",
              "        buttonEl.style.display =\n",
              "          google.colab.kernel.accessAllowed ? 'block' : 'none';\n",
              "\n",
              "        async function convertToInteractive(key) {\n",
              "          const element = document.querySelector('#df-47a610d0-f7d7-4c32-bf4c-11260344105b');\n",
              "          const dataTable =\n",
              "            await google.colab.kernel.invokeFunction('convertToInteractive',\n",
              "                                                     [key], {});\n",
              "          if (!dataTable) return;\n",
              "\n",
              "          const docLinkHtml = 'Like what you see? Visit the ' +\n",
              "            '<a target=\"_blank\" href=https://colab.research.google.com/notebooks/data_table.ipynb>data table notebook</a>'\n",
              "            + ' to learn more about interactive tables.';\n",
              "          element.innerHTML = '';\n",
              "          dataTable['output_type'] = 'display_data';\n",
              "          await google.colab.output.renderOutput(dataTable, element);\n",
              "          const docLink = document.createElement('div');\n",
              "          docLink.innerHTML = docLinkHtml;\n",
              "          element.appendChild(docLink);\n",
              "        }\n",
              "      </script>\n",
              "    </div>\n",
              "  </div>\n",
              "  "
            ]
          },
          "metadata": {},
          "execution_count": 6
        }
      ]
    },
    {
      "cell_type": "code",
      "source": [
        "df.dtypes"
      ],
      "metadata": {
        "colab": {
          "base_uri": "https://localhost:8080/"
        },
        "id": "kNKm9ymy5TPX",
        "outputId": "6a7d3bf5-dec5-4581-ab6b-4b3cf59ebb48"
      },
      "execution_count": null,
      "outputs": [
        {
          "output_type": "execute_result",
          "data": {
            "text/plain": [
              "id                     int64\n",
              "gender                object\n",
              "age                  float64\n",
              "hypertension           int64\n",
              "heart_disease          int64\n",
              "ever_married          object\n",
              "work_type             object\n",
              "Residence_type        object\n",
              "avg_glucose_level    float64\n",
              "bmi                  float64\n",
              "smoking_status        object\n",
              "stroke                 int64\n",
              "dtype: object"
            ]
          },
          "metadata": {},
          "execution_count": 7
        }
      ]
    },
    {
      "cell_type": "code",
      "source": [
        "df.describe().T"
      ],
      "metadata": {
        "id": "qFXuoovYZ2w6",
        "colab": {
          "base_uri": "https://localhost:8080/",
          "height": 269
        },
        "outputId": "8c6ffbd1-b750-43f7-de37-e1ca8d28bb0a"
      },
      "execution_count": null,
      "outputs": [
        {
          "output_type": "execute_result",
          "data": {
            "text/plain": [
              "                    count          mean           std    min        25%  \\\n",
              "id                 5110.0  36517.829354  21161.721625  67.00  17741.250   \n",
              "age                5110.0     43.226614     22.612647   0.08     25.000   \n",
              "hypertension       5110.0      0.097456      0.296607   0.00      0.000   \n",
              "heart_disease      5110.0      0.054012      0.226063   0.00      0.000   \n",
              "avg_glucose_level  5110.0    106.147677     45.283560  55.12     77.245   \n",
              "bmi                4909.0     28.893237      7.854067  10.30     23.500   \n",
              "stroke             5110.0      0.048728      0.215320   0.00      0.000   \n",
              "\n",
              "                         50%       75%       max  \n",
              "id                 36932.000  54682.00  72940.00  \n",
              "age                   45.000     61.00     82.00  \n",
              "hypertension           0.000      0.00      1.00  \n",
              "heart_disease          0.000      0.00      1.00  \n",
              "avg_glucose_level     91.885    114.09    271.74  \n",
              "bmi                   28.100     33.10     97.60  \n",
              "stroke                 0.000      0.00      1.00  "
            ],
            "text/html": [
              "\n",
              "  <div id=\"df-de0c2e03-bfa4-4edb-b887-ce903d151d8e\">\n",
              "    <div class=\"colab-df-container\">\n",
              "      <div>\n",
              "<style scoped>\n",
              "    .dataframe tbody tr th:only-of-type {\n",
              "        vertical-align: middle;\n",
              "    }\n",
              "\n",
              "    .dataframe tbody tr th {\n",
              "        vertical-align: top;\n",
              "    }\n",
              "\n",
              "    .dataframe thead th {\n",
              "        text-align: right;\n",
              "    }\n",
              "</style>\n",
              "<table border=\"1\" class=\"dataframe\">\n",
              "  <thead>\n",
              "    <tr style=\"text-align: right;\">\n",
              "      <th></th>\n",
              "      <th>count</th>\n",
              "      <th>mean</th>\n",
              "      <th>std</th>\n",
              "      <th>min</th>\n",
              "      <th>25%</th>\n",
              "      <th>50%</th>\n",
              "      <th>75%</th>\n",
              "      <th>max</th>\n",
              "    </tr>\n",
              "  </thead>\n",
              "  <tbody>\n",
              "    <tr>\n",
              "      <th>id</th>\n",
              "      <td>5110.0</td>\n",
              "      <td>36517.829354</td>\n",
              "      <td>21161.721625</td>\n",
              "      <td>67.00</td>\n",
              "      <td>17741.250</td>\n",
              "      <td>36932.000</td>\n",
              "      <td>54682.00</td>\n",
              "      <td>72940.00</td>\n",
              "    </tr>\n",
              "    <tr>\n",
              "      <th>age</th>\n",
              "      <td>5110.0</td>\n",
              "      <td>43.226614</td>\n",
              "      <td>22.612647</td>\n",
              "      <td>0.08</td>\n",
              "      <td>25.000</td>\n",
              "      <td>45.000</td>\n",
              "      <td>61.00</td>\n",
              "      <td>82.00</td>\n",
              "    </tr>\n",
              "    <tr>\n",
              "      <th>hypertension</th>\n",
              "      <td>5110.0</td>\n",
              "      <td>0.097456</td>\n",
              "      <td>0.296607</td>\n",
              "      <td>0.00</td>\n",
              "      <td>0.000</td>\n",
              "      <td>0.000</td>\n",
              "      <td>0.00</td>\n",
              "      <td>1.00</td>\n",
              "    </tr>\n",
              "    <tr>\n",
              "      <th>heart_disease</th>\n",
              "      <td>5110.0</td>\n",
              "      <td>0.054012</td>\n",
              "      <td>0.226063</td>\n",
              "      <td>0.00</td>\n",
              "      <td>0.000</td>\n",
              "      <td>0.000</td>\n",
              "      <td>0.00</td>\n",
              "      <td>1.00</td>\n",
              "    </tr>\n",
              "    <tr>\n",
              "      <th>avg_glucose_level</th>\n",
              "      <td>5110.0</td>\n",
              "      <td>106.147677</td>\n",
              "      <td>45.283560</td>\n",
              "      <td>55.12</td>\n",
              "      <td>77.245</td>\n",
              "      <td>91.885</td>\n",
              "      <td>114.09</td>\n",
              "      <td>271.74</td>\n",
              "    </tr>\n",
              "    <tr>\n",
              "      <th>bmi</th>\n",
              "      <td>4909.0</td>\n",
              "      <td>28.893237</td>\n",
              "      <td>7.854067</td>\n",
              "      <td>10.30</td>\n",
              "      <td>23.500</td>\n",
              "      <td>28.100</td>\n",
              "      <td>33.10</td>\n",
              "      <td>97.60</td>\n",
              "    </tr>\n",
              "    <tr>\n",
              "      <th>stroke</th>\n",
              "      <td>5110.0</td>\n",
              "      <td>0.048728</td>\n",
              "      <td>0.215320</td>\n",
              "      <td>0.00</td>\n",
              "      <td>0.000</td>\n",
              "      <td>0.000</td>\n",
              "      <td>0.00</td>\n",
              "      <td>1.00</td>\n",
              "    </tr>\n",
              "  </tbody>\n",
              "</table>\n",
              "</div>\n",
              "      <button class=\"colab-df-convert\" onclick=\"convertToInteractive('df-de0c2e03-bfa4-4edb-b887-ce903d151d8e')\"\n",
              "              title=\"Convert this dataframe to an interactive table.\"\n",
              "              style=\"display:none;\">\n",
              "        \n",
              "  <svg xmlns=\"http://www.w3.org/2000/svg\" height=\"24px\"viewBox=\"0 0 24 24\"\n",
              "       width=\"24px\">\n",
              "    <path d=\"M0 0h24v24H0V0z\" fill=\"none\"/>\n",
              "    <path d=\"M18.56 5.44l.94 2.06.94-2.06 2.06-.94-2.06-.94-.94-2.06-.94 2.06-2.06.94zm-11 1L8.5 8.5l.94-2.06 2.06-.94-2.06-.94L8.5 2.5l-.94 2.06-2.06.94zm10 10l.94 2.06.94-2.06 2.06-.94-2.06-.94-.94-2.06-.94 2.06-2.06.94z\"/><path d=\"M17.41 7.96l-1.37-1.37c-.4-.4-.92-.59-1.43-.59-.52 0-1.04.2-1.43.59L10.3 9.45l-7.72 7.72c-.78.78-.78 2.05 0 2.83L4 21.41c.39.39.9.59 1.41.59.51 0 1.02-.2 1.41-.59l7.78-7.78 2.81-2.81c.8-.78.8-2.07 0-2.86zM5.41 20L4 18.59l7.72-7.72 1.47 1.35L5.41 20z\"/>\n",
              "  </svg>\n",
              "      </button>\n",
              "      \n",
              "  <style>\n",
              "    .colab-df-container {\n",
              "      display:flex;\n",
              "      flex-wrap:wrap;\n",
              "      gap: 12px;\n",
              "    }\n",
              "\n",
              "    .colab-df-convert {\n",
              "      background-color: #E8F0FE;\n",
              "      border: none;\n",
              "      border-radius: 50%;\n",
              "      cursor: pointer;\n",
              "      display: none;\n",
              "      fill: #1967D2;\n",
              "      height: 32px;\n",
              "      padding: 0 0 0 0;\n",
              "      width: 32px;\n",
              "    }\n",
              "\n",
              "    .colab-df-convert:hover {\n",
              "      background-color: #E2EBFA;\n",
              "      box-shadow: 0px 1px 2px rgba(60, 64, 67, 0.3), 0px 1px 3px 1px rgba(60, 64, 67, 0.15);\n",
              "      fill: #174EA6;\n",
              "    }\n",
              "\n",
              "    [theme=dark] .colab-df-convert {\n",
              "      background-color: #3B4455;\n",
              "      fill: #D2E3FC;\n",
              "    }\n",
              "\n",
              "    [theme=dark] .colab-df-convert:hover {\n",
              "      background-color: #434B5C;\n",
              "      box-shadow: 0px 1px 3px 1px rgba(0, 0, 0, 0.15);\n",
              "      filter: drop-shadow(0px 1px 2px rgba(0, 0, 0, 0.3));\n",
              "      fill: #FFFFFF;\n",
              "    }\n",
              "  </style>\n",
              "\n",
              "      <script>\n",
              "        const buttonEl =\n",
              "          document.querySelector('#df-de0c2e03-bfa4-4edb-b887-ce903d151d8e button.colab-df-convert');\n",
              "        buttonEl.style.display =\n",
              "          google.colab.kernel.accessAllowed ? 'block' : 'none';\n",
              "\n",
              "        async function convertToInteractive(key) {\n",
              "          const element = document.querySelector('#df-de0c2e03-bfa4-4edb-b887-ce903d151d8e');\n",
              "          const dataTable =\n",
              "            await google.colab.kernel.invokeFunction('convertToInteractive',\n",
              "                                                     [key], {});\n",
              "          if (!dataTable) return;\n",
              "\n",
              "          const docLinkHtml = 'Like what you see? Visit the ' +\n",
              "            '<a target=\"_blank\" href=https://colab.research.google.com/notebooks/data_table.ipynb>data table notebook</a>'\n",
              "            + ' to learn more about interactive tables.';\n",
              "          element.innerHTML = '';\n",
              "          dataTable['output_type'] = 'display_data';\n",
              "          await google.colab.output.renderOutput(dataTable, element);\n",
              "          const docLink = document.createElement('div');\n",
              "          docLink.innerHTML = docLinkHtml;\n",
              "          element.appendChild(docLink);\n",
              "        }\n",
              "      </script>\n",
              "    </div>\n",
              "  </div>\n",
              "  "
            ]
          },
          "metadata": {},
          "execution_count": 8
        }
      ]
    },
    {
      "cell_type": "code",
      "source": [
        "df.drop(['id'],axis=1,inplace=True)\n",
        "\n",
        "print(df.isnull().any().any())\n",
        "\n",
        "import missingno as msno\n",
        "msno.bar(df)"
      ],
      "metadata": {
        "colab": {
          "base_uri": "https://localhost:8080/",
          "height": 777
        },
        "id": "Uen2fdIhQdwq",
        "outputId": "b75cccba-c290-4442-ed4e-d2ea9b549f59"
      },
      "execution_count": null,
      "outputs": [
        {
          "output_type": "stream",
          "name": "stdout",
          "text": [
            "True\n"
          ]
        },
        {
          "output_type": "execute_result",
          "data": {
            "text/plain": [
              "<matplotlib.axes._subplots.AxesSubplot at 0x7f8161c00b90>"
            ]
          },
          "metadata": {},
          "execution_count": 9
        },
        {
          "output_type": "display_data",
          "data": {
            "text/plain": [
              "<Figure size 1800x720 with 3 Axes>"
            ],
            "image/png": "[encoded data removed]"
          },
          "metadata": {
            "needs_background": "light"
          }
        }
      ]
    },
    {
      "cell_type": "code",
      "source": [
        "df.dropna(inplace=True)\n",
        "\n",
        "print(df.isnull().any().any())"
      ],
      "metadata": {
        "id": "6NZ-BzgkcsSm",
        "colab": {
          "base_uri": "https://localhost:8080/"
        },
        "outputId": "faf0a65b-a58f-44b6-e877-04dc13a13f68"
      },
      "execution_count": null,
      "outputs": [
        {
          "output_type": "stream",
          "name": "stdout",
          "text": [
            "False\n"
          ]
        }
      ]
    },
    {
      "cell_type": "code",
      "source": [
        "print(len(df))"
      ],
      "metadata": {
        "colab": {
          "base_uri": "https://localhost:8080/"
        },
        "id": "mOSfr6IrRVuL",
        "outputId": "9b344357-c64b-44d5-d19f-13eb4f28ba05"
      },
      "execution_count": null,
      "outputs": [
        {
          "output_type": "stream",
          "name": "stdout",
          "text": [
            "4909\n"
          ]
        }
      ]
    },
    {
      "cell_type": "code",
      "source": [
        "from sklearn.preprocessing import LabelEncoder\n",
        "df[['gender', 'ever_married','work_type','Residence_type','smoking_status']]=df[['gender', 'ever_married','work_type','Residence_type','smoking_status']].apply(LabelEncoder().fit_transform)"
      ],
      "metadata": {
        "id": "_qBSX-y7cX-z"
      },
      "execution_count": null,
      "outputs": []
    },
    {
      "cell_type": "code",
      "source": [
        "y=np.array(df.iloc[:,-1])\n",
        "df.iloc[:,-1].value_counts()"
      ],
      "metadata": {
        "id": "UtsWfRKnZ9Wt",
        "colab": {
          "base_uri": "https://localhost:8080/"
        },
        "outputId": "896463ec-0708-451f-9bb0-b78601b2fda7"
      },
      "execution_count": null,
      "outputs": [
        {
          "output_type": "execute_result",
          "data": {
            "text/plain": [
              "0    4700\n",
              "1     209\n",
              "Name: stroke, dtype: int64"
            ]
          },
          "metadata": {},
          "execution_count": 13
        }
      ]
    },
    {
      "cell_type": "code",
      "source": [
        "print(y[500:505])\n",
        "print(y.shape)"
      ],
      "metadata": {
        "id": "CGAzAr9RbEWO",
        "colab": {
          "base_uri": "https://localhost:8080/"
        },
        "outputId": "95596285-e517-4791-e2a9-5e2a98ecf165"
      },
      "execution_count": null,
      "outputs": [
        {
          "output_type": "stream",
          "name": "stdout",
          "text": [
            "[0 0 0 0 0]\n",
            "(4909,)\n"
          ]
        }
      ]
    },
    {
      "cell_type": "code",
      "source": [
        "\n",
        "x=np.array(df.iloc[:,:-1])\n",
        "df.iloc[:,:-1].value_counts()\n"
      ],
      "metadata": {
        "id": "52ppc7XzbVut",
        "colab": {
          "base_uri": "https://localhost:8080/"
        },
        "outputId": "2933ff71-228e-4df7-d3b6-b271be1ddd68"
      },
      "execution_count": null,
      "outputs": [
        {
          "output_type": "execute_result",
          "data": {
            "text/plain": [
              "gender  age    hypertension  heart_disease  ever_married  work_type  Residence_type  avg_glucose_level  bmi   smoking_status\n",
              "0       0.08   0             0              0             4          1               139.67             14.1  0                 1\n",
              "1       15.00  0             0              0             4          0               62.57              32.3  2                 1\n",
              "                                                                     1               113.28             23.7  2                 1\n",
              "                                                                                     95.86              18.1  0                 1\n",
              "                                                                     0               205.50             24.2  2                 1\n",
              "                                                                                                                               ..\n",
              "0       48.00  1             0              1             0          0               221.08             57.2  2                 1\n",
              "               0             1              0             2          0               101.89             25.1  3                 1\n",
              "                             0              1             3          1               212.19             46.9  2                 1\n",
              "                                                                                     108.51             33.3  0                 1\n",
              "2       26.00  0             0              0             2          0               143.33             22.4  1                 1\n",
              "Length: 4909, dtype: int64"
            ]
          },
          "metadata": {},
          "execution_count": 15
        }
      ]
    },
    {
      "cell_type": "code",
      "source": [
        "print(x[0:5])\n",
        "print(x.shape)"
      ],
      "metadata": {
        "id": "xUPmUJGgce25",
        "colab": {
          "base_uri": "https://localhost:8080/"
        },
        "outputId": "1a0e2986-0ee5-4895-e156-b7a9c112d446"
      },
      "execution_count": null,
      "outputs": [
        {
          "output_type": "stream",
          "name": "stdout",
          "text": [
            "[[  1.    67.     0.     1.     1.     2.     1.   228.69  36.6    1.  ]\n",
            " [  1.    80.     0.     1.     1.     2.     0.   105.92  32.5    2.  ]\n",
            " [  0.    49.     0.     0.     1.     2.     1.   171.23  34.4    3.  ]\n",
            " [  0.    79.     1.     0.     1.     3.     0.   174.12  24.     2.  ]\n",
            " [  1.    81.     0.     0.     1.     2.     1.   186.21  29.     1.  ]]\n",
            "(4909, 10)\n"
          ]
        }
      ]
    },
    {
      "cell_type": "code",
      "source": [
        "x"
      ],
      "metadata": {
        "id": "_1OJskjcf8fU",
        "colab": {
          "base_uri": "https://localhost:8080/"
        },
        "outputId": "b299f636-c857-4b6e-b1d4-08a7830b3bb0"
      },
      "execution_count": null,
      "outputs": [
        {
          "output_type": "execute_result",
          "data": {
            "text/plain": [
              "array([[  1.  ,  67.  ,   0.  , ..., 228.69,  36.6 ,   1.  ],\n",
              "       [  1.  ,  80.  ,   0.  , ..., 105.92,  32.5 ,   2.  ],\n",
              "       [  0.  ,  49.  ,   0.  , ..., 171.23,  34.4 ,   3.  ],\n",
              "       ...,\n",
              "       [  0.  ,  35.  ,   0.  , ...,  82.99,  30.6 ,   2.  ],\n",
              "       [  1.  ,  51.  ,   0.  , ..., 166.29,  25.6 ,   1.  ],\n",
              "       [  0.  ,  44.  ,   0.  , ...,  85.28,  26.2 ,   0.  ]])"
            ]
          },
          "metadata": {},
          "execution_count": 17
        }
      ]
    },
    {
      "cell_type": "code",
      "source": [
        "from sklearn.model_selection import train_test_split\n",
        "xtrain, xtest, ytrain, ytest = train_test_split(x, y, test_size=0.2)"
      ],
      "metadata": {
        "id": "Qj0aqqz1g2uG"
      },
      "execution_count": null,
      "outputs": []
    },
    {
      "cell_type": "code",
      "source": [
        "len(xtest)"
      ],
      "metadata": {
        "colab": {
          "base_uri": "https://localhost:8080/"
        },
        "id": "5eS2gEp9Ykw0",
        "outputId": "7ad0e8f6-b2c7-41ea-8422-cfca8c78b5eb"
      },
      "execution_count": null,
      "outputs": [
        {
          "output_type": "execute_result",
          "data": {
            "text/plain": [
              "982"
            ]
          },
          "metadata": {},
          "execution_count": 19
        }
      ]
    },
    {
      "cell_type": "code",
      "source": [
        "from sklearn.linear_model import LinearRegression\n",
        "linear_regression = LinearRegression()\n",
        "linear_regression.fit(xtrain, ytrain)\n",
        "accuracy = linear_regression.score(xtest, ytest)\n",
        "print(accuracy)\n"
      ],
      "metadata": {
        "colab": {
          "base_uri": "https://localhost:8080/"
        },
        "id": "RK_1vUziOhfN",
        "outputId": "2da70148-19c0-4c42-de17-ede51546df51"
      },
      "execution_count": null,
      "outputs": [
        {
          "output_type": "stream",
          "name": "stdout",
          "text": [
            "0.07180164608589557\n"
          ]
        }
      ]
    },
    {
      "cell_type": "code",
      "source": [
        "print(xtest,ytest)\n",
        "print(xtest[1])"
      ],
      "metadata": {
        "colab": {
          "base_uri": "https://localhost:8080/"
        },
        "id": "1vdYBXqBXYH8",
        "outputId": "16642b5f-d468-4efc-eb03-a4070724e89b"
      },
      "execution_count": null,
      "outputs": [
        {
          "output_type": "stream",
          "name": "stdout",
          "text": [
            "[[  0.    25.     0.   ...  65.95  35.     2.  ]\n",
            " [  0.    33.     0.   ...  84.48  23.2    1.  ]\n",
            " [  1.    80.     1.   ... 240.09  27.     2.  ]\n",
            " ...\n",
            " [  0.    41.     0.   ...  92.14  29.6    1.  ]\n",
            " [  0.     2.     0.   ...  94.92  20.4    0.  ]\n",
            " [  1.    53.     0.   ...  95.47  26.     3.  ]] [0 0 1 0 0 0 0 0 0 0 0 1 0 0 0 0 0 0 0 0 0 0 0 0 0 1 0 0 0 0 0 0 0 0 0 0 0\n",
            " 0 0 0 1 0 0 0 0 0 0 0 0 0 0 0 0 0 0 0 0 0 0 0 0 0 0 0 0 0 0 0 0 0 0 0 0 0\n",
            " 0 0 0 0 0 1 0 0 0 0 0 1 0 0 0 0 0 1 0 0 0 0 0 0 0 0 0 0 0 0 0 0 0 0 0 0 0\n",
            " 1 0 0 0 0 0 0 0 0 0 0 0 1 0 0 0 0 0 0 0 0 0 0 0 0 0 0 0 0 0 0 0 0 0 0 1 0\n",
            " 0 0 0 0 0 0 0 0 1 0 0 0 0 0 0 0 0 0 0 0 0 0 0 0 0 0 0 0 0 0 0 0 0 0 0 0 0\n",
            " 0 0 0 1 0 0 0 0 0 0 0 0 0 0 0 0 0 0 0 0 0 0 0 0 0 0 0 0 0 0 0 0 0 0 0 0 0\n",
            " 0 0 0 0 0 0 0 0 0 0 0 0 0 0 0 0 0 0 0 0 0 0 0 0 0 0 0 0 0 0 0 0 0 0 0 0 0\n",
            " 0 0 0 0 0 0 0 0 1 0 0 0 0 0 0 0 0 0 1 0 0 0 0 0 0 0 0 0 0 0 0 0 0 0 0 0 0\n",
            " 0 0 0 0 0 0 0 0 1 0 0 0 0 0 0 0 0 0 0 1 0 0 0 0 0 1 0 0 0 0 0 0 0 0 0 0 0\n",
            " 0 0 1 0 0 0 0 0 0 0 0 0 0 0 0 0 0 0 0 0 0 0 0 0 0 0 0 0 0 0 0 0 0 0 0 0 0\n",
            " 0 0 0 0 0 0 0 0 0 0 0 0 0 0 0 0 0 0 0 0 0 0 0 0 0 0 0 0 0 0 0 0 0 0 0 0 0\n",
            " 0 0 0 0 0 0 0 0 0 0 0 0 0 0 0 0 0 0 0 0 0 0 0 1 0 0 0 0 0 0 0 0 0 0 0 0 0\n",
            " 1 0 0 0 1 0 0 0 0 0 0 0 0 0 0 0 0 0 0 0 0 0 0 0 0 0 1 0 0 0 0 0 0 0 0 0 0\n",
            " 0 0 0 0 0 0 0 0 0 0 0 0 0 0 0 0 0 0 0 0 0 0 0 0 0 0 0 0 0 0 0 0 1 0 0 0 0\n",
            " 0 0 1 0 0 0 0 0 0 0 0 0 0 0 0 0 0 0 0 1 0 0 0 0 0 0 0 0 0 0 0 0 0 0 1 0 1\n",
            " 0 0 0 0 0 0 0 0 0 0 0 0 0 0 0 0 1 0 0 0 0 1 0 0 0 0 0 0 0 0 0 0 0 0 0 0 0\n",
            " 0 0 0 0 0 0 0 0 0 0 1 0 0 0 0 0 0 0 0 0 0 0 0 0 0 1 0 0 0 0 0 0 0 0 0 0 0\n",
            " 0 0 0 0 0 0 0 0 0 0 0 0 0 0 0 1 0 0 0 0 0 0 0 0 0 0 0 0 0 0 0 0 0 0 0 0 0\n",
            " 0 0 0 0 0 0 1 0 0 1 0 0 0 0 0 0 0 0 0 0 0 0 0 0 0 0 0 0 0 0 0 0 0 0 0 0 0\n",
            " 0 0 0 0 0 0 0 0 0 0 0 0 0 0 0 0 0 0 0 0 0 0 0 0 0 0 0 0 0 0 0 0 0 0 0 0 0\n",
            " 0 1 0 0 0 0 0 0 0 0 0 1 0 0 0 0 0 0 1 0 0 0 0 0 0 0 0 0 0 0 0 0 0 0 0 0 0\n",
            " 0 0 0 0 0 1 0 0 0 0 0 0 0 0 0 0 0 0 0 0 0 0 0 0 0 0 0 0 0 0 0 0 0 0 0 0 0\n",
            " 0 0 0 0 0 0 0 0 1 1 0 0 0 0 0 0 0 0 0 0 0 0 0 0 0 0 0 0 0 0 0 0 0 0 0 0 0\n",
            " 0 0 0 0 0 0 0 0 0 0 0 0 0 0 0 0 0 0 0 0 0 0 0 0 0 0 0 0 0 0 0 0 0 0 1 0 0\n",
            " 0 0 0 0 0 0 0 0 0 0 0 0 0 0 0 0 0 0 0 0 0 0 0 0 0 0 0 0 0 0 0 0 1 0 0 0 0\n",
            " 0 0 0 0 0 0 0 0 0 0 0 0 0 0 0 0 1 0 0 0 0 0 0 0 0 0 0 0 0 0 0 0 0 0 0 1 0\n",
            " 0 0 0 0 0 0 0 0 0 1 0 0 0 0 1 0 0 0 0 0]\n",
            "[ 0.   33.    0.    0.    1.    2.    1.   84.48 23.2   1.  ]\n"
          ]
        }
      ]
    },
    {
      "cell_type": "code",
      "source": [
        "\n",
        "predictions = linear_regression.predict(xtest) \n",
        "print(predictions)\n",
        "\n",
        "  \n"
      ],
      "metadata": {
        "colab": {
          "base_uri": "https://localhost:8080/"
        },
        "id": "B0xDuwi8OiZA",
        "outputId": "741ef25c-291b-478a-bdc0-cfb72d1b8d02"
      },
      "execution_count": null,
      "outputs": [
        {
          "output_type": "stream",
          "name": "stdout",
          "text": [
            "[-8.15513543e-03 -5.73522197e-04  2.08039400e-01  2.84475775e-03\n",
            "  1.47895360e-02 -3.02381326e-02 -4.40571779e-03 -1.01050218e-02\n",
            "  6.95873163e-02  1.15908652e-01  8.14661142e-02  2.56012373e-01\n",
            " -1.75456462e-02  1.78967212e-02  5.88573505e-02 -4.63194879e-02\n",
            "  1.59539600e-01  1.25780548e-01  9.81712616e-02 -1.13624509e-02\n",
            "  1.16193991e-01 -1.35448340e-02  8.37679294e-02  6.34184036e-03\n",
            "  3.06617991e-02  3.29261474e-02  3.14355870e-02  1.59388907e-02\n",
            "  1.66975271e-01  4.75818302e-02 -6.10154736e-03 -6.45302016e-03\n",
            "  5.19726476e-03  4.00464067e-02 -6.93337412e-03  4.49967560e-02\n",
            " -2.71607643e-02  2.85412685e-03  2.06425364e-02  4.50665374e-02\n",
            "  1.44488934e-02 -2.64506446e-02 -2.06230588e-02  3.87404640e-03\n",
            "  1.46917866e-02  7.89681471e-03  8.84148009e-02  3.72234845e-02\n",
            "  5.16088996e-02  2.09698549e-02  3.52375312e-03  1.31269328e-01\n",
            "  1.43001390e-02 -7.25952322e-03  2.09693340e-02  3.32720534e-02\n",
            "  4.64657186e-02  2.51875082e-02  2.11894031e-02 -9.87972933e-04\n",
            "  4.36205083e-02  1.63039421e-01 -4.11936030e-03  2.10239956e-02\n",
            "  1.52991420e-02  5.85837276e-02 -2.13190321e-02  9.71629553e-03\n",
            " -7.32469832e-04  3.16345051e-02  6.65606520e-02  4.91091236e-02\n",
            "  2.63846476e-03 -8.63590711e-03  1.02527093e-01 -2.01092405e-03\n",
            "  1.82879823e-02  2.51867895e-02  2.22126689e-02  5.02484593e-02\n",
            "  3.89009709e-02  2.31350590e-01  6.78572476e-02  5.65698088e-02\n",
            "  5.90629656e-02  2.76458460e-02  6.86913895e-02 -3.70510191e-03\n",
            "  3.12173221e-02  3.53735718e-02  6.54701621e-02  8.04277270e-02\n",
            "  1.37603093e-01  3.97875603e-02  1.49368718e-02  1.55070373e-02\n",
            "  7.67137738e-03  2.30624148e-02  2.09386241e-02  3.15701789e-02\n",
            "  1.57751379e-01  3.94930313e-02  5.09952135e-02  3.79507016e-02\n",
            " -1.54249464e-02  2.09357616e-02 -3.89953119e-03  2.10698322e-01\n",
            "  8.06678568e-02  2.65277483e-02  3.55051457e-02  1.03571265e-01\n",
            " -1.63642215e-02  1.50642510e-01 -4.47844364e-03  6.94772099e-03\n",
            "  9.23138572e-02 -7.98550270e-03 -3.96136927e-03  7.91118430e-02\n",
            "  4.72921814e-02  6.16395035e-02  8.85362544e-02  2.75502998e-01\n",
            "  1.99791888e-02  1.35681662e-01  4.65790446e-02  1.09456681e-01\n",
            "  1.01152905e-02  7.63862358e-02  3.98559730e-02  1.22996792e-01\n",
            "  1.45309686e-02 -2.62423077e-02 -1.72452104e-02  1.32087253e-01\n",
            "  3.51873816e-03  1.72263087e-03 -2.84169148e-02  3.92582706e-02\n",
            " -2.80022790e-04  2.37684505e-02  6.85246876e-02 -8.45183266e-03\n",
            "  1.17955422e-01  1.70820454e-01  2.13996509e-01  1.77902714e-02\n",
            "  2.13632897e-02  1.14977297e-02  1.39208388e-01  2.82760291e-02\n",
            "  3.29123491e-02  7.28871958e-02  2.22304486e-02  5.80401252e-02\n",
            "  8.63219548e-02 -1.41519965e-02  1.03505850e-01  5.65328913e-02\n",
            "  1.07737164e-01 -1.70735951e-03  2.69379577e-03  7.90137922e-03\n",
            "  6.02209572e-02  1.66994296e-02  4.37944417e-03  4.83134096e-02\n",
            "  5.38793337e-02 -1.72443541e-02  2.32502823e-02 -1.75233936e-02\n",
            " -7.05240256e-04  1.38837201e-01  1.27478830e-01  1.46846218e-02\n",
            "  2.98152647e-02 -4.90698236e-03  3.54173015e-02  1.07507007e-01\n",
            "  4.09627431e-02  5.67785385e-03 -1.05001540e-02  8.85734084e-02\n",
            "  4.59793381e-02 -2.31582831e-03  1.03740663e-01  6.06772001e-02\n",
            "  3.16814985e-02  2.90079183e-02  1.02823951e-01  2.56285008e-02\n",
            "  4.83578760e-03  1.48114747e-02 -1.10296848e-02  1.32198719e-01\n",
            "  8.69465149e-03  5.04205145e-02  1.36713633e-02  1.14209176e-01\n",
            "  5.01407433e-02  7.55304391e-04  1.58724166e-01 -4.97269476e-03\n",
            "  5.64380095e-02  3.11866551e-02  1.42844609e-02 -1.89317020e-02\n",
            " -3.56637997e-03  6.61738585e-02  7.05546194e-02 -1.18949318e-02\n",
            "  7.67469580e-02  1.40853445e-02  5.39076041e-02  7.87579782e-03\n",
            "  4.35274453e-02  4.08376038e-02  2.85394694e-02 -8.74060638e-03\n",
            "  2.18246347e-03  7.31501041e-03  1.77997825e-02  6.88761041e-02\n",
            "  3.39722241e-02 -3.75726425e-03  1.16761552e-01  8.40569777e-02\n",
            "  8.78846747e-02  2.46559308e-02 -2.28238120e-02  3.98744062e-02\n",
            "  1.11556543e-01 -1.26605443e-02  2.96212182e-02  3.28016304e-02\n",
            "  1.85344943e-01  2.16013906e-02  2.19441830e-03 -3.16121445e-03\n",
            "  3.22640399e-02  9.52557569e-02  4.21549637e-02  1.04046680e-01\n",
            "  1.96193244e-02 -9.63401610e-03  2.59047959e-01  1.36106692e-01\n",
            "  1.36304203e-01  5.76625603e-02  1.96674451e-04  1.79055431e-02\n",
            " -8.68331155e-03  1.49184904e-02 -5.85208733e-03 -1.13898987e-02\n",
            "  1.96491327e-01 -1.03433188e-02 -1.34210266e-02  5.91073968e-02\n",
            "  1.29640655e-01  3.30932239e-02  2.47614189e-02  1.32896584e-01\n",
            "  2.19243775e-02  1.24708431e-02  3.80691331e-02  4.80582497e-02\n",
            "  6.29884606e-02  6.80926051e-02  4.83798444e-03  3.30849308e-05\n",
            "  6.46101122e-02  1.04226957e-03  1.50609384e-02 -1.40178044e-02\n",
            "  6.73145784e-03  9.88918239e-02  4.09406774e-02  1.48723090e-01\n",
            "  3.12277551e-03  1.79631710e-02  6.77390772e-03  6.80812708e-02\n",
            "  1.16768967e-01 -2.28940429e-02  6.71760360e-02 -2.21723087e-02\n",
            "  7.89655235e-03 -1.32892757e-03 -2.73651729e-03  8.18245887e-02\n",
            "  2.40926117e-02 -2.97553268e-03  3.95930677e-02  9.68509186e-02\n",
            "  4.54105234e-02  5.59252122e-02  1.81950172e-02  1.85670620e-02\n",
            "  2.39070367e-02  5.56476967e-02 -9.31048519e-03 -1.31841936e-02\n",
            "  6.88496374e-02  3.69763698e-02 -2.83169953e-02  1.82974010e-02\n",
            "  2.17894546e-02  3.17021984e-03  3.22941835e-02  1.38425187e-01\n",
            " -1.92049867e-02  3.63504257e-02 -8.38575660e-03  1.96555371e-01\n",
            " -2.13691601e-02  4.42232895e-02  9.83572111e-02 -1.52384936e-02\n",
            "  2.66814526e-01  1.70387738e-01 -8.66647882e-03  6.90433881e-02\n",
            " -9.68688603e-03 -4.39792619e-03  1.02166631e-01  9.65681614e-02\n",
            "  2.78875818e-02  8.24736748e-02  6.64949517e-02  2.02554794e-02\n",
            " -8.67079329e-03  6.44287291e-02  1.70596121e-01  1.16942211e-01\n",
            " -1.50789867e-02 -1.13784937e-02  1.48203641e-01  7.06105713e-02\n",
            "  1.95991556e-01  5.40873586e-02  1.54183431e-02  5.91562767e-02\n",
            "  3.53116146e-02 -2.50457847e-02  1.95362261e-02  5.87640612e-03\n",
            "  8.72167876e-03  1.28457063e-02 -1.47295414e-02 -1.40950470e-02\n",
            "  8.78373326e-02  5.20645459e-03 -2.72530169e-04  6.05024069e-02\n",
            "  8.31655349e-02  1.66594933e-02  3.05675732e-02  5.31816244e-03\n",
            "  3.79257016e-04  4.90454210e-02  6.91467769e-02 -1.17855700e-02\n",
            "  3.79632311e-02 -1.74523660e-02  1.87581678e-01 -9.92284581e-03\n",
            "  1.67883539e-02 -1.48681107e-02  5.58761167e-03  1.04095198e-02\n",
            "  1.38821679e-02  2.17926134e-02 -1.70323993e-02  1.15262264e-01\n",
            "  1.54345870e-02  1.61673174e-01 -2.38690833e-02 -5.32234067e-03\n",
            "  1.05512184e-01  2.45844576e-02  2.69363317e-02 -1.96164729e-02\n",
            "  2.01585231e-01 -1.25682436e-02  5.61024190e-02  6.30642364e-02\n",
            "  6.10812962e-03 -4.28792784e-04  2.73406237e-02  7.66726855e-02\n",
            " -8.62865722e-03  1.02589636e-02  1.21351183e-01  6.15191907e-02\n",
            "  8.52017345e-02  1.58626281e-01  4.30049064e-02  6.63535838e-02\n",
            "  1.90050588e-01  1.52691412e-02  5.14652783e-02 -3.12661057e-03\n",
            "  1.50545788e-01 -1.00194991e-02  9.78943227e-02  9.03862738e-02\n",
            "  8.37033298e-02  5.70187958e-02  8.26544836e-02  3.41334406e-02\n",
            " -3.69689180e-02 -2.07991229e-02  1.89311234e-02 -7.52822235e-03\n",
            "  5.28478393e-02  5.84292583e-02 -3.00632179e-03  1.75618533e-02\n",
            "  9.79350591e-02  3.47810637e-02 -3.46709477e-02  1.53966069e-02\n",
            "  1.66202767e-02  9.42648298e-03  1.34028913e-01 -1.76943744e-02\n",
            "  2.05317213e-02  1.03857433e-02  9.98396053e-02  1.09649504e-02\n",
            " -1.93453495e-03 -8.71785668e-03 -3.16127150e-02  5.54756109e-02\n",
            " -4.02007124e-03  3.03888011e-02  1.27544297e-02  1.44416139e-01\n",
            "  6.00108184e-03  1.03018670e-01 -1.99503451e-02 -5.30348973e-03\n",
            "  1.07140008e-01 -5.90083014e-03 -8.43675396e-03  4.35494297e-02\n",
            "  1.01324071e-01 -2.43636393e-02  3.08675396e-02  1.56741147e-04\n",
            "  1.01386807e-01  1.27502082e-01  1.49140470e-01  2.45471674e-04\n",
            "  4.04130549e-02 -6.14725589e-03  1.11598640e-01  8.65773409e-02\n",
            "  7.17769984e-02 -3.60054421e-02  2.52027818e-02 -1.80987358e-02\n",
            "  2.22997035e-02  2.17129003e-02 -4.07948347e-03  1.65128635e-02\n",
            "  7.19861253e-02  1.17094613e-01  8.69883846e-02  1.17321784e-02\n",
            "  3.22613605e-02 -8.67300059e-03 -1.47871984e-02  1.13925494e-01\n",
            "  4.29192987e-02  2.29561302e-03  5.74470066e-03  9.21941976e-02\n",
            "  3.99331245e-02  7.22247768e-02  2.50474407e-03  5.73361639e-02\n",
            "  5.90506501e-02 -9.04461384e-03  6.78912382e-04  7.28353649e-02\n",
            " -5.20716431e-03  7.66011205e-02  6.74221011e-02  1.54281896e-01\n",
            " -7.30888773e-03  6.85382981e-02  3.52710295e-02  9.21740606e-02\n",
            "  1.35614366e-02  3.04258178e-02  9.85804975e-03  1.03914178e-01\n",
            "  1.61839533e-01  2.23940818e-02  5.48312796e-02 -1.71696495e-02\n",
            "  3.40703589e-02  1.03940533e-01  4.85189747e-02  1.65875196e-02\n",
            " -4.20843321e-03 -7.06999195e-03 -1.48866119e-02 -1.78269468e-02\n",
            " -8.44663857e-03  6.66475828e-02  7.42216805e-02  1.10563596e-01\n",
            "  2.15125507e-02  3.29495552e-04  1.32518329e-01  5.17370336e-02\n",
            "  6.76417230e-02  1.17713253e-02  1.14032158e-01  1.48458106e-02\n",
            " -2.84052556e-02 -1.58445141e-02  2.89341795e-02 -9.85470178e-03\n",
            "  3.64296461e-03 -3.74463723e-03  3.85833872e-02  7.70430692e-02\n",
            "  5.09609041e-02  1.35197388e-01  1.73085938e-01  9.88066423e-03\n",
            "  8.30441701e-03  1.22979774e-01  2.98620479e-02  7.81694355e-02\n",
            "  6.94352093e-03 -3.35082597e-03  2.37877145e-01  1.16630127e-01\n",
            "  9.60374586e-04 -5.68635292e-03  4.96310016e-02 -1.06196331e-02\n",
            "  3.12680876e-02  6.90619427e-03  1.22341126e-01  1.31090360e-01\n",
            "  1.15646652e-01  1.78082004e-02  7.90614087e-02  1.50519290e-01\n",
            "  2.28328817e-02 -1.17124769e-02  6.16611196e-02  5.55021232e-02\n",
            "  2.36228924e-02 -1.00443089e-02  7.01308644e-02 -1.06318299e-02\n",
            "  1.78895111e-02 -1.67364220e-02  1.47695384e-02  8.59938240e-02\n",
            "  5.31529135e-03 -3.70609242e-03  1.71281623e-02 -1.48248563e-02\n",
            "  7.04192539e-02  4.42501991e-02  4.94739132e-02  5.58579564e-02\n",
            "  9.61681747e-02  4.99089096e-02  2.90731098e-02  3.63597454e-02\n",
            "  4.68750194e-02 -2.06374802e-03  4.27739308e-03 -1.51631609e-02\n",
            "  3.65979163e-02  2.72310747e-02  7.49457544e-02  9.86512711e-02\n",
            "  8.72554825e-02  1.18185068e-01  1.16562468e-01  1.56771641e-02\n",
            " -8.89354468e-03  1.33926833e-02  5.37388097e-02  8.60434402e-02\n",
            "  7.91649693e-02  1.74368295e-02  2.12064296e-03  1.05240814e-03\n",
            "  9.14559458e-02  1.36360115e-02  1.30472640e-01  1.61421707e-01\n",
            " -6.52118209e-04 -6.17469786e-03  1.42314278e-01  2.22271168e-02\n",
            " -2.55502864e-02  1.49793976e-01 -1.48870043e-02  4.45943452e-02\n",
            "  9.00316281e-03  3.22465841e-02  1.89151427e-02  5.03204041e-02\n",
            "  7.65885319e-02  1.58782103e-01  7.82223428e-04 -3.54834123e-02\n",
            " -1.59076414e-02  5.15580109e-03  1.40393106e-01  1.44212977e-02\n",
            "  2.37553275e-02 -1.72364544e-02  1.01390349e-01 -1.75004715e-02\n",
            " -1.78765351e-02 -2.94407530e-03  7.48297842e-02  1.15441693e-02\n",
            "  1.82852294e-02 -7.99266239e-03 -1.55652592e-02 -1.48090491e-03\n",
            " -7.87539157e-03  9.88261402e-02  4.26558294e-02 -1.13769562e-02\n",
            " -9.65984749e-03  8.34079902e-02  1.48175652e-02  5.48906837e-02\n",
            "  4.19975137e-02  1.36384501e-01 -1.71074303e-02 -3.74557156e-03\n",
            "  1.51070976e-02  1.04927706e-01  1.96959862e-02  1.36427148e-02\n",
            "  4.86662561e-02  5.79135654e-02  2.15413501e-02 -2.26662538e-02\n",
            "  1.72856893e-03  1.20104581e-01  8.89738281e-03  6.96305702e-02\n",
            "  8.93276675e-02 -2.48256757e-03  9.22432098e-02  4.85392672e-02\n",
            "  7.06885575e-02  7.35591332e-03  4.35769903e-02  4.23712694e-03\n",
            "  2.16242817e-04  4.63423377e-02  1.51013015e-01  1.77135807e-01\n",
            "  1.71891042e-01 -5.24833456e-03  8.50751138e-02  1.60899290e-01\n",
            "  1.76278632e-02  2.75949420e-02 -5.39892122e-03  1.80810290e-01\n",
            " -1.59825934e-02  1.54503405e-01  1.61859428e-02  3.41194482e-02\n",
            " -2.17182699e-02 -4.73782402e-03  1.13378998e-01 -1.09971077e-02\n",
            "  1.03234294e-01  6.66611378e-02  2.14481085e-02  3.48544601e-02\n",
            "  8.93605968e-02 -1.09553520e-02 -1.01845444e-02 -3.76061322e-04\n",
            " -3.35614790e-03  2.51151280e-02  1.27999169e-01  1.46084085e-01\n",
            "  1.00809093e-01 -1.31850926e-02  6.24621439e-03  3.33599831e-03\n",
            "  1.59598965e-02  3.11734054e-02 -1.60832956e-02 -1.72586709e-02\n",
            "  8.54253256e-03  6.72312127e-03  7.27899797e-02 -2.92746030e-03\n",
            "  1.11491518e-02  1.72342490e-01  1.57837856e-02  9.64878233e-02\n",
            "  1.18282464e-01  1.99372241e-02  1.67576527e-02 -1.85033217e-02\n",
            "  6.64654294e-02  2.39396954e-03  8.62399045e-03  3.26276901e-02\n",
            " -7.93648712e-03  7.07399465e-02 -8.46258735e-03  1.61971237e-01\n",
            "  1.75430446e-02  1.37644980e-01  4.21597494e-02 -1.50354817e-02\n",
            " -6.45595474e-03  7.48357121e-02 -1.18214440e-02  1.54651023e-01\n",
            " -7.55029797e-03  1.24484639e-01  7.40174214e-02 -1.41732129e-02\n",
            "  1.81940595e-02  9.39203021e-02 -2.05287852e-02  8.69200872e-02\n",
            "  1.76226984e-02  3.18237010e-02  7.12941924e-02  1.85451575e-02\n",
            " -5.57549395e-03  3.17628315e-02 -1.75767642e-02  7.74295444e-02\n",
            " -1.40234514e-02  5.46217035e-02  5.82203884e-03  1.61870764e-02\n",
            "  1.90383892e-01  2.71312028e-04  2.54515716e-02 -5.18498169e-03\n",
            "  1.76086731e-03 -1.40483958e-02  9.09493085e-02  1.22468828e-01\n",
            "  1.05600336e-01 -4.52707807e-03  1.73182311e-02 -1.69247630e-02\n",
            "  3.68775551e-02  5.51437977e-03 -1.94880198e-02 -1.74064651e-02\n",
            " -1.42550673e-02  2.05502291e-02  5.45667629e-02  8.80852303e-02\n",
            "  2.01572241e-02  5.01081955e-02  4.92662605e-02  8.86563674e-02\n",
            "  1.63564454e-01  4.38251389e-02  4.76628036e-02  4.75207082e-02\n",
            "  5.00868059e-02  2.75405420e-02  3.57237222e-02  1.68702663e-02\n",
            "  3.76483955e-02  9.57608420e-03 -1.20338526e-02 -1.65693760e-02\n",
            "  4.37569578e-02 -7.15813232e-03  8.21743253e-03  8.86247548e-02\n",
            " -2.16539802e-02  9.16475199e-02  2.18431925e-01  4.17943947e-02\n",
            "  7.19191289e-02  5.93048863e-02  3.35705839e-02  2.52400516e-02\n",
            "  2.37148308e-02 -1.10047023e-02 -9.90897746e-03  2.37404482e-02\n",
            "  7.09914073e-02  2.94036351e-02  1.51127718e-03  1.99464532e-02\n",
            "  2.43665130e-03  3.67356214e-02  1.16792832e-01  1.92236706e-01\n",
            "  3.84959167e-02  1.37179807e-01  2.53271557e-02  1.96175942e-01\n",
            "  3.04956649e-02  8.84805331e-02  1.93915555e-01  6.68636745e-02\n",
            "  3.99015026e-03  3.71025836e-03 -2.30298724e-02  5.70700955e-02\n",
            "  3.57984898e-02 -1.46653119e-02  1.84011447e-02 -2.01685492e-02\n",
            "  4.39156345e-02  6.47826845e-02  1.09007645e-01  1.16930346e-01\n",
            "  3.03224175e-02  8.88096183e-02  9.64647763e-02  9.02881646e-03\n",
            "  1.03016384e-01  2.00150954e-02 -5.06131737e-04  4.19905096e-02\n",
            "  4.68688737e-02  2.34002757e-02  7.66904823e-03  2.32935831e-01\n",
            "  5.54439979e-02  5.23363134e-02  1.88248695e-02  4.30288071e-02\n",
            "  9.26668190e-02  1.27520682e-01  1.09724071e-02  3.61507358e-02\n",
            "  7.00008448e-03  9.64702772e-02  4.36314287e-04 -9.21317849e-03\n",
            " -9.56239428e-03  1.51430616e-02  3.07938846e-02  1.50223497e-02\n",
            " -1.10476675e-02  3.17905770e-02  1.23576607e-01  8.59214400e-02\n",
            " -2.21065691e-02  5.91284465e-03  4.03405364e-02 -4.36709971e-03\n",
            "  7.97531316e-02 -4.24747676e-02  2.07758187e-03  7.49847393e-02\n",
            "  1.18015057e-01  3.16861249e-02  7.47820368e-02  2.93625777e-02\n",
            "  9.78566612e-02  2.08696922e-01  8.84983266e-03  7.22395417e-03\n",
            "  6.75707362e-03  1.09284448e-01 -8.40169287e-03  9.00246380e-03\n",
            "  7.42796629e-02  3.66041225e-02 -2.61124114e-02  6.60091261e-03\n",
            " -1.53632187e-02  1.43440239e-01  4.21367636e-02  2.34049659e-02\n",
            "  3.70620487e-02  4.63643322e-03  1.93763030e-02 -4.28582848e-03\n",
            "  1.13099952e-01 -3.06480746e-02  1.21821481e-01  8.75469980e-02\n",
            "  1.13627164e-02  7.19414585e-02 -1.83697257e-02 -2.10391322e-02\n",
            "  2.37276599e-02  2.39140707e-03 -2.33726778e-02  8.81706812e-02\n",
            "  6.73666328e-02  9.13208299e-03  3.05751935e-02 -3.16099699e-02\n",
            "  1.12303832e-02 -1.52124329e-02  2.58631223e-02  2.73491912e-02\n",
            "  9.83086385e-02 -1.37989812e-03  3.02721426e-02  1.82275648e-01\n",
            "  5.48337262e-02  4.53698342e-04  1.07393780e-02 -1.67201767e-02\n",
            "  4.14166712e-03  1.24701685e-02  1.31847583e-03 -1.84798952e-02\n",
            " -2.86593764e-03 -7.99354919e-03 -1.04979033e-02  2.37159643e-02\n",
            "  2.31609628e-02 -1.01041042e-02 -5.19417732e-04  5.37637852e-02\n",
            " -2.37802836e-02  2.63489841e-01  6.12336365e-03  1.30490323e-01\n",
            "  1.98552066e-02 -1.25470194e-02  5.81044539e-02  7.73478511e-02\n",
            "  1.15262759e-01  1.24709555e-01  3.45852558e-02  1.46700095e-02\n",
            "  7.66454934e-02  1.50454365e-02  9.79136296e-03  6.05430822e-02\n",
            " -7.08393274e-05 -1.57891340e-04 -2.08674400e-04  1.07698923e-02\n",
            "  1.03089288e-01  4.22639057e-03  1.03217109e-01 -6.77538413e-03\n",
            "  3.84321020e-02  1.27085939e-01  2.92803989e-02 -4.32749767e-03\n",
            " -2.16811965e-02 -1.89249215e-03 -1.62728670e-02  9.46354551e-02\n",
            " -2.70910912e-03  8.55539754e-02  5.00093359e-03  6.87413360e-02\n",
            "  1.88360480e-01  6.05028246e-02  9.50680112e-03  1.30987459e-02\n",
            " -2.07347275e-02  4.05105239e-02]\n"
          ]
        }
      ]
    },
    {
      "cell_type": "code",
      "source": [
        "if predictions[22] <=0.1:\n",
        "  print(\"NO Stroke\")\n",
        "else :\n",
        "  print(\"Stroke\")"
      ],
      "metadata": {
        "colab": {
          "base_uri": "https://localhost:8080/"
        },
        "id": "803ijGYKUyNK",
        "outputId": "ca99fe05-7364-446c-ba9b-d7a055bc0c91"
      },
      "execution_count": null,
      "outputs": [
        {
          "output_type": "stream",
          "name": "stdout",
          "text": [
            "NO Stroke\n"
          ]
        }
      ]
    },
    {
      "cell_type": "code",
      "source": [
        "import numpy as np\n",
        "test_data =[ 0. ,  33 ,  0. ,   0.   , 1.   , 2. ,   1.  , 84.48 ,23.2,   1.  ]\n",
        "#Convert into numpy array and reshape\n",
        "test_data = np.array(test_data).astype(np.float)\n",
        "test_data = test_data.reshape(1,-1)\n",
        "test_data"
      ],
      "metadata": {
        "id": "6pJe6dyo5lUa",
        "colab": {
          "base_uri": "https://localhost:8080/"
        },
        "outputId": "3dc98ce6-e618-411e-b7d1-fc9324730b42"
      },
      "execution_count": null,
      "outputs": [
        {
          "output_type": "stream",
          "name": "stderr",
          "text": [
            "/usr/local/lib/python3.7/dist-packages/ipykernel_launcher.py:4: DeprecationWarning: `np.float` is a deprecated alias for the builtin `float`. To silence this warning, use `float` by itself. Doing this will not modify any behavior and is safe. If you specifically wanted the numpy scalar type, use `np.float64` here.\n",
            "Deprecated in NumPy 1.20; for more details and guidance: https://numpy.org/devdocs/release/1.20.0-notes.html#deprecations\n",
            "  after removing the cwd from sys.path.\n"
          ]
        },
        {
          "output_type": "execute_result",
          "data": {
            "text/plain": [
              "array([[ 0.  , 33.  ,  0.  ,  0.  ,  1.  ,  2.  ,  1.  , 84.48, 23.2 ,\n",
              "         1.  ]])"
            ]
          },
          "metadata": {},
          "execution_count": 28
        }
      ]
    },
    {
      "cell_type": "code",
      "source": [
        "\n",
        "predictions = linear_regression.predict(test_data) \n",
        "print(predictions)"
      ],
      "metadata": {
        "colab": {
          "base_uri": "https://localhost:8080/"
        },
        "id": "25BBoWQ5SyRM",
        "outputId": "958b1ab2-2f02-4aa9-a508-f95dd5d11d93"
      },
      "execution_count": null,
      "outputs": [
        {
          "output_type": "stream",
          "name": "stdout",
          "text": [
            "[-0.00057352]\n"
          ]
        }
      ]
    }
  ]
}